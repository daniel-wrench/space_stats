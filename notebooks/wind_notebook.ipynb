{
 "cells": [
  {
   "cell_type": "markdown",
   "metadata": {},
   "source": [
    "# Exploratory data analysis of Wind spacecraft magnetic field time series"
   ]
  },
  {
   "cell_type": "code",
   "execution_count": 1,
   "metadata": {},
   "outputs": [],
   "source": [
    "import numpy as np\n",
    "import pandas as pd\n",
    "import cdflib\n",
    "import math as m\n",
    "import seaborn as sns\n",
    "from scipy import signal\n",
    "from matplotlib import pyplot as plt\n",
    "from statsmodels.graphics import tsaplots\n",
    "from statsmodels.tsa.stattools import acf\n",
    "from statsmodels.graphics.tsaplots import plot_acf\n",
    "from statsmodels.graphics.tsaplots import plot_pacf\n",
    "import os\n",
    "\n",
    "while \".toplevel\" not in os.listdir():\n",
    "    os.chdir(\"..\")\n",
    "\n",
    "from data_import_funcs import read_cdfs, date_1d_dict, read_asc_ts, extract_components"
   ]
  },
  {
   "cell_type": "code",
   "execution_count": 2,
   "metadata": {},
   "outputs": [
    {
     "ename": "FileNotFoundError",
     "evalue": "[Errno 2] No such file or directory: 'C:\\\\Users\\\\test\\\\Desktop\\\\space_stats\\\\data\\\\Wind\\\\h2\\\\wi_h2_mfi_20151101_v05.cdf'",
     "output_type": "error",
     "traceback": [
      "\u001b[1;31m---------------------------------------------------------------------------\u001b[0m",
      "\u001b[1;31mFileNotFoundError\u001b[0m                         Traceback (most recent call last)",
      "\u001b[1;32mc:\\Users\\test\\Desktop\\space_stats\\notebooks\\wind_notebook.ipynb Cell 3'\u001b[0m in \u001b[0;36m<cell line: 1>\u001b[1;34m()\u001b[0m\n\u001b[1;32m----> <a href='vscode-notebook-cell:/c%3A/Users/test/Desktop/space_stats/notebooks/wind_notebook.ipynb#ch0000002?line=0'>1</a>\u001b[0m cdf_file \u001b[39m=\u001b[39m cdflib\u001b[39m.\u001b[39;49mCDF(\u001b[39m\"\u001b[39;49m\u001b[39mdata\u001b[39;49m\u001b[39m\\\u001b[39;49m\u001b[39mWind\u001b[39;49m\u001b[39m\\\u001b[39;49m\u001b[39mh2\u001b[39;49m\u001b[39m\\\u001b[39;49m\u001b[39mwi_h2_mfi_20151101_v05.cdf\u001b[39;49m\u001b[39m\"\u001b[39;49m)\n",
      "File \u001b[1;32mc:\\Users\\test\\AppData\\Local\\Programs\\Python\\Python310\\lib\\site-packages\\cdflib\\cdf_factory.py:57\u001b[0m, in \u001b[0;36mCDF\u001b[1;34m(path, cdf_spec, delete, validate, string_encoding)\u001b[0m\n\u001b[0;32m     <a href='file:///c%3A/Users/test/AppData/Local/Programs/Python/Python310/lib/site-packages/cdflib/cdf_factory.py?line=54'>55</a>\u001b[0m         \u001b[39mreturn\u001b[39;00m cdfread\u001b[39m.\u001b[39mCDF(path, validate\u001b[39m=\u001b[39mvalidate, string_encoding\u001b[39m=\u001b[39mstring_encoding)\n\u001b[0;32m     <a href='file:///c%3A/Users/test/AppData/Local/Programs/Python/Python310/lib/site-packages/cdflib/cdf_factory.py?line=55'>56</a>\u001b[0m \u001b[39melse\u001b[39;00m:\n\u001b[1;32m---> <a href='file:///c%3A/Users/test/AppData/Local/Programs/Python/Python310/lib/site-packages/cdflib/cdf_factory.py?line=56'>57</a>\u001b[0m     \u001b[39mreturn\u001b[39;00m cdfwrite\u001b[39m.\u001b[39;49mCDF(path, cdf_spec\u001b[39m=\u001b[39;49mcdf_spec, delete\u001b[39m=\u001b[39;49mdelete)\n",
      "File \u001b[1;32mc:\\Users\\test\\AppData\\Local\\Programs\\Python\\Python310\\lib\\site-packages\\cdflib\\cdfwrite.py:260\u001b[0m, in \u001b[0;36mCDF.__init__\u001b[1;34m(self, path, cdf_spec, delete)\u001b[0m\n\u001b[0;32m    <a href='file:///c%3A/Users/test/AppData/Local/Programs/Python/Python310/lib/site-packages/cdflib/cdfwrite.py?line=256'>257</a>\u001b[0m \u001b[39mself\u001b[39m\u001b[39m.\u001b[39mrdim_sizes \u001b[39m=\u001b[39m rdim_sizes  \u001b[39m# Size of r dimensions\u001b[39;00m\n\u001b[0;32m    <a href='file:///c%3A/Users/test/AppData/Local/Programs/Python/Python310/lib/site-packages/cdflib/cdfwrite.py?line=257'>258</a>\u001b[0m \u001b[39mself\u001b[39m\u001b[39m.\u001b[39mmajority \u001b[39m=\u001b[39m major\n\u001b[1;32m--> <a href='file:///c%3A/Users/test/AppData/Local/Programs/Python/Python310/lib/site-packages/cdflib/cdfwrite.py?line=259'>260</a>\u001b[0m \u001b[39mwith\u001b[39;00m path\u001b[39m.\u001b[39;49mopen(\u001b[39m'\u001b[39;49m\u001b[39mwb\u001b[39;49m\u001b[39m'\u001b[39;49m) \u001b[39mas\u001b[39;00m f:\n\u001b[0;32m    <a href='file:///c%3A/Users/test/AppData/Local/Programs/Python/Python310/lib/site-packages/cdflib/cdfwrite.py?line=260'>261</a>\u001b[0m     f\u001b[39m.\u001b[39mwrite(binascii\u001b[39m.\u001b[39munhexlify(\u001b[39mself\u001b[39m\u001b[39m.\u001b[39mV3magicNUMBER_1))\n\u001b[0;32m    <a href='file:///c%3A/Users/test/AppData/Local/Programs/Python/Python310/lib/site-packages/cdflib/cdfwrite.py?line=261'>262</a>\u001b[0m     f\u001b[39m.\u001b[39mwrite(binascii\u001b[39m.\u001b[39munhexlify(\u001b[39mself\u001b[39m\u001b[39m.\u001b[39mV3magicNUMBER_2))\n",
      "File \u001b[1;32mc:\\Users\\test\\AppData\\Local\\Programs\\Python\\Python310\\lib\\pathlib.py:1117\u001b[0m, in \u001b[0;36mPath.open\u001b[1;34m(self, mode, buffering, encoding, errors, newline)\u001b[0m\n\u001b[0;32m   <a href='file:///c%3A/Users/test/AppData/Local/Programs/Python/Python310/lib/pathlib.py?line=1114'>1115</a>\u001b[0m \u001b[39mif\u001b[39;00m \u001b[39m\"\u001b[39m\u001b[39mb\u001b[39m\u001b[39m\"\u001b[39m \u001b[39mnot\u001b[39;00m \u001b[39min\u001b[39;00m mode:\n\u001b[0;32m   <a href='file:///c%3A/Users/test/AppData/Local/Programs/Python/Python310/lib/pathlib.py?line=1115'>1116</a>\u001b[0m     encoding \u001b[39m=\u001b[39m io\u001b[39m.\u001b[39mtext_encoding(encoding)\n\u001b[1;32m-> <a href='file:///c%3A/Users/test/AppData/Local/Programs/Python/Python310/lib/pathlib.py?line=1116'>1117</a>\u001b[0m \u001b[39mreturn\u001b[39;00m \u001b[39mself\u001b[39;49m\u001b[39m.\u001b[39;49m_accessor\u001b[39m.\u001b[39;49mopen(\u001b[39mself\u001b[39;49m, mode, buffering, encoding, errors,\n\u001b[0;32m   <a href='file:///c%3A/Users/test/AppData/Local/Programs/Python/Python310/lib/pathlib.py?line=1117'>1118</a>\u001b[0m                            newline)\n",
      "\u001b[1;31mFileNotFoundError\u001b[0m: [Errno 2] No such file or directory: 'C:\\\\Users\\\\test\\\\Desktop\\\\space_stats\\\\data\\\\Wind\\\\h2\\\\wi_h2_mfi_20151101_v05.cdf'"
     ]
    }
   ],
   "source": [
    "cdf_file = cdflib.CDF(\"data\\Wind\\h2\\wi_h2_mfi_20151101_v05.cdf\")"
   ]
  },
  {
   "cell_type": "code",
   "execution_count": null,
   "metadata": {},
   "outputs": [],
   "source": [
    "print(cdf_file.globalattsget(expand = False))"
   ]
  },
  {
   "cell_type": "code",
   "execution_count": null,
   "metadata": {},
   "outputs": [],
   "source": [
    "print(cdf_file.cdf_info()['zVariables']) "
   ]
  },
  {
   "cell_type": "code",
   "execution_count": null,
   "metadata": {},
   "outputs": [],
   "source": [
    "print(cdf_file.varinq('BF1'))"
   ]
  },
  {
   "cell_type": "code",
   "execution_count": null,
   "metadata": {},
   "outputs": [],
   "source": [
    "print(cdf_file.varattsget('BF1'))"
   ]
  },
  {
   "cell_type": "code",
   "execution_count": null,
   "metadata": {},
   "outputs": [],
   "source": [
    "print(cdf_file.varattsget('Epoch'))"
   ]
  },
  {
   "cell_type": "code",
   "execution_count": null,
   "metadata": {},
   "outputs": [],
   "source": [
    "wind_data = read_cdfs([\"data\\Wind\\h2\\wi_h2_mfi_20151101_v05.cdf\",\n",
    "                       \"data\\Wind\\h2\\wi_h2_mfi_20151102_v05.cdf\",\n",
    "                       \"data\\Wind\\h2\\wi_h2_mfi_20151103_v05.cdf\",\n",
    "                       \"data\\Wind\\h2\\wi_h2_mfi_20151104_v05.cdf\",\n",
    "                       \"data\\Wind\\h2\\wi_h2_mfi_20151105_v05.cdf\",\n",
    "                       \"data\\Wind\\h2\\wi_h2_mfi_20151106_v05.cdf\",\n",
    "                       \"data\\Wind\\h2\\wi_h2_mfi_20151107_v05.cdf\",\n",
    "                       \"data\\Wind\\h2\\wi_h2_mfi_20151108_v05.cdf\",\n",
    "                       \"data\\Wind\\h2\\wi_h2_mfi_20151109_v05.cdf\",\n",
    "                       \"data\\Wind\\h2\\wi_h2_mfi_20151110_v05.cdf\",\n",
    "                       \"data\\Wind\\h2\\wi_h2_mfi_20151111_v05.cdf\",\n",
    "                       \"data\\Wind\\h2\\wi_h2_mfi_20151112_v05.cdf\",\n",
    "                       \"data\\Wind\\h2\\wi_h2_mfi_20151113_v05.cdf\",\n",
    "                       \"data\\Wind\\h2\\wi_h2_mfi_20151114_v05.cdf\",\n",
    "                       \"data\\Wind\\h2\\wi_h2_mfi_20151115_v05.cdf\",\n",
    "                       \"data\\Wind\\h2\\wi_h2_mfi_20151116_v05.cdf\",\n",
    "                       \"data\\Wind\\h2\\wi_h2_mfi_20151117_v05.cdf\",\n",
    "                       \"data\\Wind\\h2\\wi_h2_mfi_20151118_v05.cdf\",\n",
    "                       \"data\\Wind\\h2\\wi_h2_mfi_20151119_v05.cdf\",\n",
    "                       \"data\\Wind\\h2\\wi_h2_mfi_20151120_v05.cdf\",\n",
    "                       \"data\\Wind\\h2\\wi_h2_mfi_20151121_v05.cdf\",],\n",
    "                        {'Epoch':(0), 'BF1':(0)})"
   ]
  },
  {
   "cell_type": "code",
   "execution_count": null,
   "metadata": {},
   "outputs": [],
   "source": [
    "wind_data_final = date_1d_dict(wind_data, '5S') #Resampling with freq means we do not get lines drawn between missing data points on line plots, however it does require some averaging which puts the time points slightly off"
   ]
  },
  {
   "cell_type": "code",
   "execution_count": null,
   "metadata": {},
   "outputs": [],
   "source": [
    "print(wind_data_final.head())\n",
    "print(wind_data_final.notnull().sum())\n",
    "print(wind_data_final.isnull().sum())"
   ]
  },
  {
   "cell_type": "code",
   "execution_count": null,
   "metadata": {},
   "outputs": [],
   "source": [
    "wind_data_final.plot(subplots = True, figsize=(30, 8))\n",
    "wind_data_final['2015-11-01 00:00':'2015-11-01 11:00'].plot(subplots = True, figsize=(30, 8))\n"
   ]
  },
  {
   "cell_type": "code",
   "execution_count": null,
   "metadata": {},
   "outputs": [],
   "source": [
    "a = psp_data.values  # Extract out relevant column from dataframe as array\n",
    "m = np.concatenate(( [True], np.isnan(a), [True] ))  # Mask\n",
    "ss = np.flatnonzero(m[1:] != m[:-1]).reshape(-1,2)   # Start-stop limits\n",
    "start,stop = ss[(ss[:,1] - ss[:,0]).argmax()]  # Get max interval, interval limits\n",
    "print(psp_data[[start]])\n",
    "print(psp_data[[stop-1]])\n",
    "starttime = psp_data[[start]].index[0]\n",
    "endtime = psp_data[[stop-1]].index[0]"
   ]
  },
  {
   "cell_type": "code",
   "execution_count": null,
   "metadata": {},
   "outputs": [],
   "source": [
    "\n",
    "wind_data_raw = read_cdfs([\n",
    "#    \"data/wi_h0_mfi_20151114_v05.cdf\",\n",
    "    \"data/wi_h0_mfi_20151115_v05.cdf\",\n",
    "    \"data/wi_h0_mfi_20151106_v05.cdf\",\n",
    "    \"data/wi_h0_mfi_20151107_v05.cdf\",\n",
    "    \"data/wi_h0_mfi_20151108_v05.cdf\",  \n",
    "    \"data/wi_h0_mfi_20151109_v05.cdf\",  \n",
    "    \"data/wi_h0_mfi_20151110_v05.cdf\",\n",
    "    \"data/wi_h0_mfi_20151111_v05.cdf\",\n",
    "    \"data/wi_h0_mfi_20151112_v05.cdf\",\n",
    "    \"data/wi_h0_mfi_20151113_v05.cdf\",\n",
    "    \"data/wi_h0_mfi_20151114_v05.cdf\",\n",
    "    \"data/wi_h0_mfi_20151115_v05.cdf\",\n",
    "    \"data/wi_h0_mfi_20151116_v05.cdf\",\n",
    "    \"data/wi_h0_mfi_20151117_v05.cdf\",\n",
    "    \"data/wi_h0_mfi_20151118_v05.cdf\",\n",
    "    \"data/wi_h0_mfi_20151119_v05.cdf\",\n",
    "    \"data/wi_h0_mfi_20151120_v05.cdf\",\n",
    "    \"data/wi_h0_mfi_20151121_v05.cdf\",\n",
    "    \"data/wi_h0_mfi_20151122_v05.cdf\",\n",
    "    \"data/wi_h0_mfi_20151123_v05.cdf\",\n",
    "    \"data/wi_h0_mfi_20151124_v05.cdf\",\n",
    "    \"data/wi_h0_mfi_20151125_v05.cdf\",\n",
    "    \"data/wi_h0_mfi_20151126_v05.cdf\",\n",
    "    \"data/wi_h0_mfi_20151127_v05.cdf\",\n",
    "    \"data/wi_h0_mfi_20151128_v05.cdf\",\n",
    "    \"data/wi_h0_mfi_20151129_v05.cdf\"\n",
    "    ], {'Epoch3':(0), 'B3F1':(0)})"
   ]
  },
  {
   "cell_type": "code",
   "execution_count": null,
   "metadata": {},
   "outputs": [],
   "source": [
    "df = pd.DataFrame(wind_data_final)"
   ]
  },
  {
   "cell_type": "code",
   "execution_count": null,
   "metadata": {},
   "outputs": [],
   "source": [
    "print(wind_data_final.head())\n",
    "print(wind_data_final.isna().sum()/len(wind_data_final))\n",
    "print(wind_data_final.notnull().sum())"
   ]
  },
  {
   "cell_type": "code",
   "execution_count": null,
   "metadata": {},
   "outputs": [],
   "source": [
    "a = wind_data_final['BF1'].values  # Extract out relevant column from dataframe as array\n",
    "m = np.concatenate(( [True], np.isnan(a), [True] ))  # Mask\n",
    "ss = np.flatnonzero(m[1:] != m[:-1]).reshape(-1,2)   # Start-stop limits\n",
    "start,stop = ss[(ss[:,1] - ss[:,0]).argmax()]  # Get max interval, interval limits\n",
    "print(wind_data_final['BF1'][[start]])\n",
    "print(wind_data_final['BF1'][[stop-1]])\n",
    "starttime = wind_data['BF1'][[start]]\n",
    "endtime = wind_data['BF1'][[stop-1]]"
   ]
  },
  {
   "cell_type": "code",
   "execution_count": null,
   "metadata": {},
   "outputs": [],
   "source": [
    "clean = wind_data_final['2015-11-05 10:27:00':'2015-11-05 20:46:25']\n",
    "print(clean['BF1'].isna().sum())\n",
    "print(len(clean))"
   ]
  },
  {
   "cell_type": "code",
   "execution_count": null,
   "metadata": {},
   "outputs": [],
   "source": [
    "subset = wind_data_final.BF1['2015-11-04 00:01:10':'2015-11-04 00:11:10']\n",
    "subset.plot(title = \"Five seconds of data from Wind\")\n",
    "print(len(subset))"
   ]
  },
  {
   "cell_type": "code",
   "execution_count": null,
   "metadata": {},
   "outputs": [],
   "source": []
  }
 ],
 "metadata": {
  "interpreter": {
   "hash": "b7377f19eab4b8c2e19b4d5b732c435591579d0f123dd21b146d33dfd161e508"
  },
  "kernelspec": {
   "display_name": "Python 3.10.4 64-bit",
   "language": "python",
   "name": "python3"
  },
  "language_info": {
   "codemirror_mode": {
    "name": "ipython",
    "version": 3
   },
   "file_extension": ".py",
   "mimetype": "text/x-python",
   "name": "python",
   "nbconvert_exporter": "python",
   "pygments_lexer": "ipython3",
   "version": "3.10.4"
  },
  "orig_nbformat": 2
 },
 "nbformat": 4,
 "nbformat_minor": 2
}
